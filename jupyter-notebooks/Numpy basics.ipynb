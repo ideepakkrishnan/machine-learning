{
 "cells": [
  {
   "cell_type": "markdown",
   "metadata": {},
   "source": [
    "## Matrices"
   ]
  },
  {
   "cell_type": "code",
   "execution_count": 6,
   "metadata": {},
   "outputs": [
    {
     "data": {
      "text/plain": [
       "array([[  56. ,    0. ,    4.4,   68. ],\n",
       "       [   1.2,  104. ,   52. ,    8. ],\n",
       "       [   1.8,  135. ,   99. ,    0.9]])"
      ]
     },
     "execution_count": 6,
     "metadata": {},
     "output_type": "execute_result"
    }
   ],
   "source": [
    "import numpy as np\n",
    "\n",
    "A = np.array([[56.0, 0.0, 4.4, 68.0],\n",
    "              [1.2, 104.0, 52.0, 8.0],\n",
    "              [1.8, 135.0, 99.0, 0.9]])\n",
    "\n",
    "A"
   ]
  },
  {
   "cell_type": "code",
   "execution_count": 7,
   "metadata": {},
   "outputs": [
    {
     "data": {
      "text/plain": [
       "array([  59. ,  239. ,  155.4,   76.9])"
      ]
     },
     "execution_count": 7,
     "metadata": {},
     "output_type": "execute_result"
    }
   ],
   "source": [
    "calories = A.sum(axis=0)  # Sum vertically\n",
    "calories"
   ]
  },
  {
   "cell_type": "code",
   "execution_count": 8,
   "metadata": {},
   "outputs": [
    {
     "data": {
      "text/plain": [
       "array([[ 94.91525424,   0.        ,   2.83140283,  88.42652796],\n",
       "       [  2.03389831,  43.51464435,  33.46203346,  10.40312094],\n",
       "       [  3.05084746,  56.48535565,  63.70656371,   1.17035111]])"
      ]
     },
     "execution_count": 8,
     "metadata": {},
     "output_type": "execute_result"
    }
   ],
   "source": [
    "percentage = (100 * A)/calories.reshape(1, 4)  # Divide 3x4 matrix by 1x4 matrix\n",
    "percentage"
   ]
  },
  {
   "cell_type": "markdown",
   "metadata": {},
   "source": [
    "## Broadcasting"
   ]
  },
  {
   "cell_type": "code",
   "execution_count": 13,
   "metadata": {},
   "outputs": [
    {
     "data": {
      "text/plain": [
       "array([101, 102, 103, 104])"
      ]
     },
     "execution_count": 13,
     "metadata": {},
     "output_type": "execute_result"
    }
   ],
   "source": [
    "m1 = np.array([1, 2, 3, 4])\n",
    "m1 = m1 + 100\n",
    "m1"
   ]
  },
  {
   "cell_type": "code",
   "execution_count": 17,
   "metadata": {},
   "outputs": [
    {
     "data": {
      "text/plain": [
       "array([[101, 100, 100],\n",
       "       [102, 100, 100],\n",
       "       [103, 100, 100]])"
      ]
     },
     "execution_count": 17,
     "metadata": {},
     "output_type": "execute_result"
    }
   ],
   "source": [
    "m2 = np.array([[1, 0, 0],\n",
    "               [2, 0, 0],\n",
    "               [3, 0, 0]])\n",
    "m2 = m2 + 100\n",
    "m2"
   ]
  },
  {
   "cell_type": "code",
   "execution_count": 18,
   "metadata": {},
   "outputs": [
    {
     "data": {
      "text/plain": [
       "array([[111, 110, 110],\n",
       "       [113, 111, 111],\n",
       "       [115, 112, 112]])"
      ]
     },
     "execution_count": 18,
     "metadata": {},
     "output_type": "execute_result"
    }
   ],
   "source": [
    "m3 = np.array([[10],\n",
    "               [11],\n",
    "               [12]])\n",
    "\n",
    "m2 = m2 + m3\n",
    "m2"
   ]
  },
  {
   "cell_type": "code",
   "execution_count": 19,
   "metadata": {},
   "outputs": [
    {
     "data": {
      "text/plain": [
       "array([[136, 136, 137],\n",
       "       [138, 137, 138],\n",
       "       [140, 138, 139]])"
      ]
     },
     "execution_count": 19,
     "metadata": {},
     "output_type": "execute_result"
    }
   ],
   "source": [
    "m4 = np.array([25, 26, 27])\n",
    "m2 = m2 + m4\n",
    "m2"
   ]
  },
  {
   "cell_type": "markdown",
   "metadata": {},
   "source": [
    "## Vectors"
   ]
  },
  {
   "cell_type": "code",
   "execution_count": 53,
   "metadata": {},
   "outputs": [
    {
     "data": {
      "text/plain": [
       "array([-0.61966125,  0.88606993, -0.59599406,  0.14722126,  0.1576896 ])"
      ]
     },
     "execution_count": 53,
     "metadata": {},
     "output_type": "execute_result"
    }
   ],
   "source": [
    "v1 = np.random.randn(5)  # Creates a rank 1 array\n",
    "v1"
   ]
  },
  {
   "cell_type": "code",
   "execution_count": 54,
   "metadata": {},
   "outputs": [
    {
     "data": {
      "text/plain": [
       "(5,)"
      ]
     },
     "execution_count": 54,
     "metadata": {},
     "output_type": "execute_result"
    }
   ],
   "source": [
    "v1.shape"
   ]
  },
  {
   "cell_type": "code",
   "execution_count": 26,
   "metadata": {},
   "outputs": [
    {
     "data": {
      "text/plain": [
       "array([ 1.14768051, -0.70621693,  1.00094445,  0.1808542 ,  0.81008868])"
      ]
     },
     "execution_count": 26,
     "metadata": {},
     "output_type": "execute_result"
    }
   ],
   "source": [
    "v1.T  # Transpose"
   ]
  },
  {
   "cell_type": "code",
   "execution_count": 29,
   "metadata": {},
   "outputs": [
    {
     "data": {
      "text/plain": [
       "3.5067546112723131"
      ]
     },
     "execution_count": 29,
     "metadata": {},
     "output_type": "execute_result"
    }
   ],
   "source": [
    "res = np.dot(v1, v1.T)  # We expect an array since we are multiplying 5x1 matrix with 1x5 matrix\n",
    "res # But actual result is:"
   ]
  },
  {
   "cell_type": "markdown",
   "metadata": {},
   "source": [
    "This is due to the fact that np.random.randn(5) created a rank 1 array instead of a vector.\n",
    "\n",
    "To get our desired [column] vector, we need to do the following:"
   ]
  },
  {
   "cell_type": "code",
   "execution_count": 36,
   "metadata": {},
   "outputs": [
    {
     "data": {
      "text/plain": [
       "array([[-0.73401304],\n",
       "       [-0.29456306],\n",
       "       [-0.94697596],\n",
       "       [-1.62819555],\n",
       "       [ 2.04608883]])"
      ]
     },
     "execution_count": 36,
     "metadata": {},
     "output_type": "execute_result"
    }
   ],
   "source": [
    "v2 = np.random.randn(5, 1)  # Define matrix dimension explicitly in the argument\n",
    "v2"
   ]
  },
  {
   "cell_type": "code",
   "execution_count": 37,
   "metadata": {},
   "outputs": [
    {
     "data": {
      "text/plain": [
       "(5, 1)"
      ]
     },
     "execution_count": 37,
     "metadata": {},
     "output_type": "execute_result"
    }
   ],
   "source": [
    "v2.shape"
   ]
  },
  {
   "cell_type": "markdown",
   "metadata": {},
   "source": [
    "Now, if we take the transpose, we get a 1x5 matrix (i.e. a row vector):"
   ]
  },
  {
   "cell_type": "code",
   "execution_count": 38,
   "metadata": {},
   "outputs": [
    {
     "data": {
      "text/plain": [
       "array([[-0.73401304, -0.29456306, -0.94697596, -1.62819555,  2.04608883]])"
      ]
     },
     "execution_count": 38,
     "metadata": {},
     "output_type": "execute_result"
    }
   ],
   "source": [
    "v2.T"
   ]
  },
  {
   "cell_type": "markdown",
   "metadata": {},
   "source": [
    "And on multiplying the 5x1 vector with it's transpose results in a 5x5 matrix:"
   ]
  },
  {
   "cell_type": "code",
   "execution_count": 39,
   "metadata": {},
   "outputs": [
    {
     "data": {
      "text/plain": [
       "array([[ 0.53877515,  0.21621313,  0.69509271,  1.19511677, -1.50185589],\n",
       "       [ 0.21621313,  0.0867674 ,  0.27894414,  0.47960627, -0.60270219],\n",
       "       [ 0.69509271,  0.27894414,  0.89676347,  1.54186205, -1.93759693],\n",
       "       [ 1.19511677,  0.47960627,  1.54186205,  2.65102076, -3.33143273],\n",
       "       [-1.50185589, -0.60270219, -1.93759693, -3.33143273,  4.18647948]])"
      ]
     },
     "execution_count": 39,
     "metadata": {},
     "output_type": "execute_result"
    }
   ],
   "source": [
    "res = np.dot(v2, v2.T)\n",
    "res"
   ]
  },
  {
   "cell_type": "markdown",
   "metadata": {},
   "source": [
    "When unsure about the dimensions of a matrix, make sure you throw in an assert statement to check if we have a matrix of expected dimensions: "
   ]
  },
  {
   "cell_type": "code",
   "execution_count": 44,
   "metadata": {},
   "outputs": [],
   "source": [
    "assert(res.shape == (5, 5))"
   ]
  },
  {
   "cell_type": "markdown",
   "metadata": {},
   "source": [
    "If for some reason, we end up with a rank 1 array, we can 'reshape' it into a vector so that we have consistent results when performing vector operations:"
   ]
  },
  {
   "cell_type": "code",
   "execution_count": 55,
   "metadata": {},
   "outputs": [
    {
     "name": "stdout",
     "output_type": "stream",
     "text": [
      "[-0.61966125  0.88606993 -0.59599406  0.14722126  0.1576896 ]\n",
      "(5,)\n",
      "[[-0.61966125]\n",
      " [ 0.88606993]\n",
      " [-0.59599406]\n",
      " [ 0.14722126]\n",
      " [ 0.1576896 ]]\n",
      "(5, 1)\n"
     ]
    }
   ],
   "source": [
    "print(v1)\n",
    "print(v1.shape)\n",
    "\n",
    "v1 = v1.reshape((5, 1))\n",
    "\n",
    "print(v1)\n",
    "print(v1.shape)"
   ]
  },
  {
   "cell_type": "code",
   "execution_count": null,
   "metadata": {
    "collapsed": true
   },
   "outputs": [],
   "source": []
  }
 ],
 "metadata": {
  "kernelspec": {
   "display_name": "Python 3",
   "language": "python",
   "name": "python3"
  },
  "language_info": {
   "codemirror_mode": {
    "name": "ipython",
    "version": 3
   },
   "file_extension": ".py",
   "mimetype": "text/x-python",
   "name": "python",
   "nbconvert_exporter": "python",
   "pygments_lexer": "ipython3",
   "version": "3.6.1"
  }
 },
 "nbformat": 4,
 "nbformat_minor": 2
}

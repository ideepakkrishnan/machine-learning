{
 "cells": [
  {
   "cell_type": "markdown",
   "metadata": {},
   "source": [
    "## Simple linear regression model for King County House Sales data"
   ]
  },
  {
   "cell_type": "markdown",
   "metadata": {},
   "source": [
    "Step 1: Import all libraries"
   ]
  },
  {
   "cell_type": "code",
   "execution_count": 1,
   "metadata": {
    "collapsed": true
   },
   "outputs": [],
   "source": [
    "import numpy as np\n",
    "import pandas as pd\n",
    "import matplotlib.pyplot as plt\n",
    "%matplotlib inline"
   ]
  },
  {
   "cell_type": "markdown",
   "metadata": {},
   "source": [
    "Step 2: Read training data from CSV"
   ]
  },
  {
   "cell_type": "code",
   "execution_count": 7,
   "metadata": {},
   "outputs": [],
   "source": [
    "data = pd.read_csv(\"kc_house_train_data.csv\", header=1, names={'bathrooms':float, 'waterfront':int, 'sqft_above':int, 'sqft_living15':float, 'grade':int, 'yr_renovated':int, 'price':float, 'bedrooms':float, 'zipcode':str, 'long':float, 'sqft_lot15':float, 'sqft_living':float, 'floors':str, 'condition':int, 'lat':float, 'date':str, 'sqft_basement':int, 'yr_built':int, 'id':str, 'sqft_lot':int, 'view':int})"
   ]
  },
  {
   "cell_type": "markdown",
   "metadata": {},
   "source": [
    "Step 3: Get insights about the data"
   ]
  },
  {
   "cell_type": "code",
   "execution_count": 8,
   "metadata": {},
   "outputs": [
    {
     "data": {
      "text/html": [
       "<div>\n",
       "<style>\n",
       "    .dataframe thead tr:only-child th {\n",
       "        text-align: right;\n",
       "    }\n",
       "\n",
       "    .dataframe thead th {\n",
       "        text-align: left;\n",
       "    }\n",
       "\n",
       "    .dataframe tbody tr th {\n",
       "        vertical-align: top;\n",
       "    }\n",
       "</style>\n",
       "<table border=\"1\" class=\"dataframe\">\n",
       "  <thead>\n",
       "    <tr style=\"text-align: right;\">\n",
       "      <th></th>\n",
       "      <th>bathrooms</th>\n",
       "      <th>sqft_above</th>\n",
       "      <th>sqft_living15</th>\n",
       "      <th>grade</th>\n",
       "      <th>yr_renovated</th>\n",
       "      <th>price</th>\n",
       "      <th>bedrooms</th>\n",
       "      <th>zipcode</th>\n",
       "      <th>long</th>\n",
       "      <th>sqft_lot15</th>\n",
       "      <th>sqft_living</th>\n",
       "      <th>floors</th>\n",
       "      <th>condition</th>\n",
       "      <th>lat</th>\n",
       "      <th>date</th>\n",
       "      <th>sqft_basement</th>\n",
       "      <th>yr_built</th>\n",
       "      <th>id</th>\n",
       "      <th>sqft_lot</th>\n",
       "      <th>view</th>\n",
       "    </tr>\n",
       "  </thead>\n",
       "  <tbody>\n",
       "    <tr>\n",
       "      <th>count</th>\n",
       "      <td>1.738300e+04</td>\n",
       "      <td>1.738300e+04</td>\n",
       "      <td>17383.000000</td>\n",
       "      <td>17383.000000</td>\n",
       "      <td>17383.000000</td>\n",
       "      <td>1.738300e+04</td>\n",
       "      <td>17383.000000</td>\n",
       "      <td>17383.000000</td>\n",
       "      <td>17383.000000</td>\n",
       "      <td>17383.000000</td>\n",
       "      <td>17383.000000</td>\n",
       "      <td>17383.000000</td>\n",
       "      <td>17383.000000</td>\n",
       "      <td>17383.000000</td>\n",
       "      <td>17383.000000</td>\n",
       "      <td>17383.000000</td>\n",
       "      <td>17383.000000</td>\n",
       "      <td>17383.000000</td>\n",
       "      <td>17383.000000</td>\n",
       "      <td>17383.000000</td>\n",
       "    </tr>\n",
       "    <tr>\n",
       "      <th>mean</th>\n",
       "      <td>4.574202e+09</td>\n",
       "      <td>5.393849e+05</td>\n",
       "      <td>3.369384</td>\n",
       "      <td>2.115112</td>\n",
       "      <td>2080.081286</td>\n",
       "      <td>1.509245e+04</td>\n",
       "      <td>1.494276</td>\n",
       "      <td>0.007651</td>\n",
       "      <td>0.236093</td>\n",
       "      <td>3.410804</td>\n",
       "      <td>7.655065</td>\n",
       "      <td>1787.879480</td>\n",
       "      <td>292.201806</td>\n",
       "      <td>1971.153656</td>\n",
       "      <td>83.112754</td>\n",
       "      <td>98077.931140</td>\n",
       "      <td>47.559316</td>\n",
       "      <td>-122.213279</td>\n",
       "      <td>1986.032158</td>\n",
       "      <td>12776.790830</td>\n",
       "    </tr>\n",
       "    <tr>\n",
       "      <th>std</th>\n",
       "      <td>2.872373e+09</td>\n",
       "      <td>3.696940e+05</td>\n",
       "      <td>0.906489</td>\n",
       "      <td>0.771758</td>\n",
       "      <td>921.632115</td>\n",
       "      <td>4.146040e+04</td>\n",
       "      <td>0.539445</td>\n",
       "      <td>0.087138</td>\n",
       "      <td>0.768028</td>\n",
       "      <td>0.649803</td>\n",
       "      <td>1.169841</td>\n",
       "      <td>827.118536</td>\n",
       "      <td>444.411393</td>\n",
       "      <td>29.329310</td>\n",
       "      <td>398.703253</td>\n",
       "      <td>53.521775</td>\n",
       "      <td>0.138706</td>\n",
       "      <td>0.140910</td>\n",
       "      <td>686.515096</td>\n",
       "      <td>27176.458475</td>\n",
       "    </tr>\n",
       "    <tr>\n",
       "      <th>min</th>\n",
       "      <td>1.000102e+06</td>\n",
       "      <td>7.500000e+04</td>\n",
       "      <td>0.000000</td>\n",
       "      <td>0.000000</td>\n",
       "      <td>290.000000</td>\n",
       "      <td>5.200000e+02</td>\n",
       "      <td>1.000000</td>\n",
       "      <td>0.000000</td>\n",
       "      <td>0.000000</td>\n",
       "      <td>1.000000</td>\n",
       "      <td>1.000000</td>\n",
       "      <td>290.000000</td>\n",
       "      <td>0.000000</td>\n",
       "      <td>1900.000000</td>\n",
       "      <td>0.000000</td>\n",
       "      <td>98001.000000</td>\n",
       "      <td>47.159300</td>\n",
       "      <td>-122.519000</td>\n",
       "      <td>399.000000</td>\n",
       "      <td>651.000000</td>\n",
       "    </tr>\n",
       "    <tr>\n",
       "      <th>25%</th>\n",
       "      <td>2.124084e+09</td>\n",
       "      <td>3.200000e+05</td>\n",
       "      <td>3.000000</td>\n",
       "      <td>1.750000</td>\n",
       "      <td>1420.000000</td>\n",
       "      <td>5.049000e+03</td>\n",
       "      <td>1.000000</td>\n",
       "      <td>0.000000</td>\n",
       "      <td>0.000000</td>\n",
       "      <td>3.000000</td>\n",
       "      <td>7.000000</td>\n",
       "      <td>1200.000000</td>\n",
       "      <td>0.000000</td>\n",
       "      <td>1952.000000</td>\n",
       "      <td>0.000000</td>\n",
       "      <td>98033.000000</td>\n",
       "      <td>47.468600</td>\n",
       "      <td>-122.328000</td>\n",
       "      <td>1490.000000</td>\n",
       "      <td>5100.000000</td>\n",
       "    </tr>\n",
       "    <tr>\n",
       "      <th>50%</th>\n",
       "      <td>3.892500e+09</td>\n",
       "      <td>4.500000e+05</td>\n",
       "      <td>3.000000</td>\n",
       "      <td>2.250000</td>\n",
       "      <td>1910.000000</td>\n",
       "      <td>7.616000e+03</td>\n",
       "      <td>1.500000</td>\n",
       "      <td>0.000000</td>\n",
       "      <td>0.000000</td>\n",
       "      <td>3.000000</td>\n",
       "      <td>7.000000</td>\n",
       "      <td>1560.000000</td>\n",
       "      <td>0.000000</td>\n",
       "      <td>1975.000000</td>\n",
       "      <td>0.000000</td>\n",
       "      <td>98065.000000</td>\n",
       "      <td>47.571400</td>\n",
       "      <td>-122.229000</td>\n",
       "      <td>1840.000000</td>\n",
       "      <td>7620.000000</td>\n",
       "    </tr>\n",
       "    <tr>\n",
       "      <th>75%</th>\n",
       "      <td>7.304301e+09</td>\n",
       "      <td>6.400000e+05</td>\n",
       "      <td>4.000000</td>\n",
       "      <td>2.500000</td>\n",
       "      <td>2550.000000</td>\n",
       "      <td>1.066550e+04</td>\n",
       "      <td>2.000000</td>\n",
       "      <td>0.000000</td>\n",
       "      <td>0.000000</td>\n",
       "      <td>4.000000</td>\n",
       "      <td>8.000000</td>\n",
       "      <td>2210.000000</td>\n",
       "      <td>560.000000</td>\n",
       "      <td>1997.000000</td>\n",
       "      <td>0.000000</td>\n",
       "      <td>98117.000000</td>\n",
       "      <td>47.677650</td>\n",
       "      <td>-122.125000</td>\n",
       "      <td>2360.000000</td>\n",
       "      <td>10066.500000</td>\n",
       "    </tr>\n",
       "    <tr>\n",
       "      <th>max</th>\n",
       "      <td>9.900000e+09</td>\n",
       "      <td>7.700000e+06</td>\n",
       "      <td>10.000000</td>\n",
       "      <td>8.000000</td>\n",
       "      <td>13540.000000</td>\n",
       "      <td>1.651359e+06</td>\n",
       "      <td>3.500000</td>\n",
       "      <td>1.000000</td>\n",
       "      <td>4.000000</td>\n",
       "      <td>5.000000</td>\n",
       "      <td>13.000000</td>\n",
       "      <td>9410.000000</td>\n",
       "      <td>4820.000000</td>\n",
       "      <td>2015.000000</td>\n",
       "      <td>2015.000000</td>\n",
       "      <td>98199.000000</td>\n",
       "      <td>47.777600</td>\n",
       "      <td>-121.315000</td>\n",
       "      <td>6210.000000</td>\n",
       "      <td>871200.000000</td>\n",
       "    </tr>\n",
       "  </tbody>\n",
       "</table>\n",
       "</div>"
      ],
      "text/plain": [
       "          bathrooms    sqft_above  sqft_living15         grade  yr_renovated  \\\n",
       "count  1.738300e+04  1.738300e+04   17383.000000  17383.000000  17383.000000   \n",
       "mean   4.574202e+09  5.393849e+05       3.369384      2.115112   2080.081286   \n",
       "std    2.872373e+09  3.696940e+05       0.906489      0.771758    921.632115   \n",
       "min    1.000102e+06  7.500000e+04       0.000000      0.000000    290.000000   \n",
       "25%    2.124084e+09  3.200000e+05       3.000000      1.750000   1420.000000   \n",
       "50%    3.892500e+09  4.500000e+05       3.000000      2.250000   1910.000000   \n",
       "75%    7.304301e+09  6.400000e+05       4.000000      2.500000   2550.000000   \n",
       "max    9.900000e+09  7.700000e+06      10.000000      8.000000  13540.000000   \n",
       "\n",
       "              price      bedrooms       zipcode          long    sqft_lot15  \\\n",
       "count  1.738300e+04  17383.000000  17383.000000  17383.000000  17383.000000   \n",
       "mean   1.509245e+04      1.494276      0.007651      0.236093      3.410804   \n",
       "std    4.146040e+04      0.539445      0.087138      0.768028      0.649803   \n",
       "min    5.200000e+02      1.000000      0.000000      0.000000      1.000000   \n",
       "25%    5.049000e+03      1.000000      0.000000      0.000000      3.000000   \n",
       "50%    7.616000e+03      1.500000      0.000000      0.000000      3.000000   \n",
       "75%    1.066550e+04      2.000000      0.000000      0.000000      4.000000   \n",
       "max    1.651359e+06      3.500000      1.000000      4.000000      5.000000   \n",
       "\n",
       "        sqft_living        floors     condition           lat          date  \\\n",
       "count  17383.000000  17383.000000  17383.000000  17383.000000  17383.000000   \n",
       "mean       7.655065   1787.879480    292.201806   1971.153656     83.112754   \n",
       "std        1.169841    827.118536    444.411393     29.329310    398.703253   \n",
       "min        1.000000    290.000000      0.000000   1900.000000      0.000000   \n",
       "25%        7.000000   1200.000000      0.000000   1952.000000      0.000000   \n",
       "50%        7.000000   1560.000000      0.000000   1975.000000      0.000000   \n",
       "75%        8.000000   2210.000000    560.000000   1997.000000      0.000000   \n",
       "max       13.000000   9410.000000   4820.000000   2015.000000   2015.000000   \n",
       "\n",
       "       sqft_basement      yr_built            id      sqft_lot           view  \n",
       "count   17383.000000  17383.000000  17383.000000  17383.000000   17383.000000  \n",
       "mean    98077.931140     47.559316   -122.213279   1986.032158   12776.790830  \n",
       "std        53.521775      0.138706      0.140910    686.515096   27176.458475  \n",
       "min     98001.000000     47.159300   -122.519000    399.000000     651.000000  \n",
       "25%     98033.000000     47.468600   -122.328000   1490.000000    5100.000000  \n",
       "50%     98065.000000     47.571400   -122.229000   1840.000000    7620.000000  \n",
       "75%     98117.000000     47.677650   -122.125000   2360.000000   10066.500000  \n",
       "max     98199.000000     47.777600   -121.315000   6210.000000  871200.000000  "
      ]
     },
     "execution_count": 8,
     "metadata": {},
     "output_type": "execute_result"
    }
   ],
   "source": [
    "data.describe()"
   ]
  },
  {
   "cell_type": "markdown",
   "metadata": {},
   "source": [
    "Step 4: Try plotting the data to get an intuition about the data points"
   ]
  },
  {
   "cell_type": "code",
   "execution_count": 9,
   "metadata": {},
   "outputs": [
    {
     "data": {
      "text/plain": [
       "<matplotlib.axes._subplots.AxesSubplot at 0x2357cf32710>"
      ]
     },
     "execution_count": 9,
     "metadata": {},
     "output_type": "execute_result"
    },
    {
     "data": {
      "image/png": "[encoded data removed]",
      "text/plain": [
       "<matplotlib.figure.Figure at 0x2357cea8c18>"
      ]
     },
     "metadata": {},
     "output_type": "display_data"
    }
   ],
   "source": [
    "data.plot(kind=\"scatter\", x=\"sqft_living\", y=\"price\", figsize=(12, 8))"
   ]
  },
  {
   "cell_type": "markdown",
   "metadata": {},
   "source": [
    "Step 5: Function to compute the cost"
   ]
  },
  {
   "cell_type": "code",
   "execution_count": 30,
   "metadata": {
    "collapsed": true
   },
   "outputs": [],
   "source": [
    "def computeCost(x, y, theta):\n",
    "    \"\"\"\n",
    "    Calculates the cost function J and returns it\n",
    "    to the caller.\n",
    "    \n",
    "    Parameters\n",
    "    ----------\n",
    "    x : Nxd matrix\n",
    "        N is number of samples and d is number of params\n",
    "    y : Nx1 matrix\n",
    "        The matrix storing the actual outputs\n",
    "    theta: 1xd matrix\n",
    "        The matrix storing regression parameters\n",
    "    \n",
    "    Returns\n",
    "    -------\n",
    "    float\n",
    "        Overall cost for the current step\n",
    "    \"\"\"\n",
    "    inner = np.power(x * theta.T - y, 2)\n",
    "    return np.sum(inner) / (2 * len(x))"
   ]
  },
  {
   "cell_type": "markdown",
   "metadata": {},
   "source": [
    "Step 6: Add a column of 1s to the column vector 'x'"
   ]
  },
  {
   "cell_type": "code",
   "execution_count": 15,
   "metadata": {},
   "outputs": [],
   "source": [
    "data.insert(11, \"ones\", 1)"
   ]
  },
  {
   "cell_type": "markdown",
   "metadata": {},
   "source": [
    "Step 7: Extract the columns 'ones' & 'sqft_living' and store it into a separate variable 'x'"
   ]
  },
  {
   "cell_type": "code",
   "execution_count": 34,
   "metadata": {},
   "outputs": [
    {
     "data": {
      "text/html": [
       "<div>\n",
       "<style>\n",
       "    .dataframe thead tr:only-child th {\n",
       "        text-align: right;\n",
       "    }\n",
       "\n",
       "    .dataframe thead th {\n",
       "        text-align: left;\n",
       "    }\n",
       "\n",
       "    .dataframe tbody tr th {\n",
       "        vertical-align: top;\n",
       "    }\n",
       "</style>\n",
       "<table border=\"1\" class=\"dataframe\">\n",
       "  <thead>\n",
       "    <tr style=\"text-align: right;\">\n",
       "      <th></th>\n",
       "      <th>ones</th>\n",
       "      <th>sqft_living</th>\n",
       "    </tr>\n",
       "  </thead>\n",
       "  <tbody>\n",
       "    <tr>\n",
       "      <th>0</th>\n",
       "      <td>1</td>\n",
       "      <td>7</td>\n",
       "    </tr>\n",
       "    <tr>\n",
       "      <th>1</th>\n",
       "      <td>1</td>\n",
       "      <td>6</td>\n",
       "    </tr>\n",
       "    <tr>\n",
       "      <th>2</th>\n",
       "      <td>1</td>\n",
       "      <td>7</td>\n",
       "    </tr>\n",
       "    <tr>\n",
       "      <th>3</th>\n",
       "      <td>1</td>\n",
       "      <td>8</td>\n",
       "    </tr>\n",
       "    <tr>\n",
       "      <th>4</th>\n",
       "      <td>1</td>\n",
       "      <td>11</td>\n",
       "    </tr>\n",
       "  </tbody>\n",
       "</table>\n",
       "</div>"
      ],
      "text/plain": [
       "   ones  sqft_living\n",
       "0     1            7\n",
       "1     1            6\n",
       "2     1            7\n",
       "3     1            8\n",
       "4     1           11"
      ]
     },
     "execution_count": 34,
     "metadata": {},
     "output_type": "execute_result"
    }
   ],
   "source": [
    "x = data.iloc[:, 11:13]\n",
    "x.head()"
   ]
  },
  {
   "cell_type": "markdown",
   "metadata": {},
   "source": [
    "Step 8: Extract the house prices from data into a separate variable 'y'"
   ]
  },
  {
   "cell_type": "code",
   "execution_count": 35,
   "metadata": {},
   "outputs": [
    {
     "data": {
      "text/html": [
       "<div>\n",
       "<style>\n",
       "    .dataframe thead tr:only-child th {\n",
       "        text-align: right;\n",
       "    }\n",
       "\n",
       "    .dataframe thead th {\n",
       "        text-align: left;\n",
       "    }\n",
       "\n",
       "    .dataframe tbody tr th {\n",
       "        vertical-align: top;\n",
       "    }\n",
       "</style>\n",
       "<table border=\"1\" class=\"dataframe\">\n",
       "  <thead>\n",
       "    <tr style=\"text-align: right;\">\n",
       "      <th></th>\n",
       "      <th>price</th>\n",
       "    </tr>\n",
       "  </thead>\n",
       "  <tbody>\n",
       "    <tr>\n",
       "      <th>0</th>\n",
       "      <td>7242</td>\n",
       "    </tr>\n",
       "    <tr>\n",
       "      <th>1</th>\n",
       "      <td>10000</td>\n",
       "    </tr>\n",
       "    <tr>\n",
       "      <th>2</th>\n",
       "      <td>5000</td>\n",
       "    </tr>\n",
       "    <tr>\n",
       "      <th>3</th>\n",
       "      <td>8080</td>\n",
       "    </tr>\n",
       "    <tr>\n",
       "      <th>4</th>\n",
       "      <td>101930</td>\n",
       "    </tr>\n",
       "  </tbody>\n",
       "</table>\n",
       "</div>"
      ],
      "text/plain": [
       "    price\n",
       "0    7242\n",
       "1   10000\n",
       "2    5000\n",
       "3    8080\n",
       "4  101930"
      ]
     },
     "execution_count": 35,
     "metadata": {},
     "output_type": "execute_result"
    }
   ],
   "source": [
    "y = data.iloc[:, 6:7]\n",
    "y.head()"
   ]
  },
  {
   "cell_type": "markdown",
   "metadata": {},
   "source": [
    "Step 9: Convert 'x' and 'y' into NumPy matrices"
   ]
  },
  {
   "cell_type": "code",
   "execution_count": 36,
   "metadata": {},
   "outputs": [
    {
     "name": "stdout",
     "output_type": "stream",
     "text": [
      "(17383, 2)\n",
      "(17383, 1)\n"
     ]
    }
   ],
   "source": [
    "x = np.matrix(x.values)\n",
    "print(x.shape)\n",
    "\n",
    "y = np.matrix(y.values)\n",
    "print(y.shape)"
   ]
  },
  {
   "cell_type": "markdown",
   "metadata": {},
   "source": [
    "Step 10: Initialize theta"
   ]
  },
  {
   "cell_type": "code",
   "execution_count": 37,
   "metadata": {},
   "outputs": [
    {
     "name": "stdout",
     "output_type": "stream",
     "text": [
      "(1, 2)\n"
     ]
    }
   ],
   "source": [
    "theta = np.matrix(np.array([0, 0]))\n",
    "print(theta.shape)"
   ]
  },
  {
   "cell_type": "code",
   "execution_count": 38,
   "metadata": {},
   "outputs": [
    {
     "data": {
      "text/plain": [
       "973324156.58468044"
      ]
     },
     "execution_count": 38,
     "metadata": {},
     "output_type": "execute_result"
    }
   ],
   "source": [
    "computeCost(x, y, theta)"
   ]
  },
  {
   "cell_type": "markdown",
   "metadata": {},
   "source": [
    "Step 11: Function to perform gradient descent"
   ]
  },
  {
   "cell_type": "code",
   "execution_count": 99,
   "metadata": {},
   "outputs": [],
   "source": [
    "def gradientDescent(x, y, theta, alpha, iters):\n",
    "    \"\"\"\n",
    "    Performs gradient descent logic on the matrices\n",
    "    passed as arguments and returns the regression\n",
    "    parameters in the form of a column matrix along \n",
    "    with the overall cost involved.\n",
    "    \n",
    "    Parameters\n",
    "    ----------\n",
    "    x : Nxd matrix\n",
    "        The matrix storing the values for selected \n",
    "        features\n",
    "    y : Nx1 matrix\n",
    "        The matrix storing the actual output values\n",
    "    theta: Nx1 matrix\n",
    "        The column vector storing the regression \n",
    "        parameters\n",
    "    alpha: float\n",
    "        The learning rate or the step size\n",
    "    iters: int\n",
    "        The number of iterations to be performed\n",
    "    \n",
    "    Returns\n",
    "    -------\n",
    "    theta: Nx1 matrix\n",
    "        The column vector storing the new regression \n",
    "        parameters\n",
    "    cost: Array[float]\n",
    "        Residual sum of squares for each iteration\n",
    "    \"\"\"\n",
    "    \n",
    "    # Initialize a new column vector to store the\n",
    "    # new regression paramters calculated in this\n",
    "    # step\n",
    "    theta_new = np.matrix(np.zeros(theta.shape))\n",
    "    \n",
    "    # Extract feature count from theta\n",
    "    param_count = theta.ravel().shape[1]\n",
    "    \n",
    "    # Initialize an array to store the RSS for each \n",
    "    # iteration\n",
    "    cost = np.zeros(iters)\n",
    "    \n",
    "    # Gradient descent logic\n",
    "    for i in range(iters):\n",
    "        # Calculate the residual\n",
    "        error = x * theta.T - y\n",
    "        \n",
    "        # Process each feature vector\n",
    "        for j in range(param_count):\n",
    "            # Multiple the current feature vector \n",
    "            # with error\n",
    "            term = np.multiply(error, x[:, j])\n",
    "            \n",
    "            # Calculate the new values for theta\n",
    "            theta_new[0, j] = theta[0, j] - (alpha / len(x)) * np.sum(term)\n",
    "        \n",
    "        # Update theta with new values\n",
    "        theta = theta_new\n",
    "        \n",
    "        # Calculate the overall RSS for this iteration\n",
    "        cost[i] = computeCost(x, y, theta)\n",
    "        \n",
    "        if i % 100 == 0:\n",
    "            print(\"Loss at iteration \", i, \": \", cost[i])\n",
    "    \n",
    "    return theta, cost"
   ]
  },
  {
   "cell_type": "markdown",
   "metadata": {},
   "source": [
    "Initialize learning rate and number of iterations"
   ]
  },
  {
   "cell_type": "code",
   "execution_count": 79,
   "metadata": {
    "collapsed": true
   },
   "outputs": [],
   "source": [
    "alpha = 0.025\n",
    "iters = 15000"
   ]
  },
  {
   "cell_type": "markdown",
   "metadata": {},
   "source": [
    "Perform gradient descent"
   ]
  },
  {
   "cell_type": "code",
   "execution_count": 80,
   "metadata": {},
   "outputs": [
    {
     "name": "stdout",
     "output_type": "stream",
     "text": [
      "Loss at iteration  0 :  884956992.006\n",
      "Loss at iteration  1000 :  849823212.752\n",
      "Loss at iteration  2000 :  849254256.506\n",
      "Loss at iteration  3000 :  849069171.668\n",
      "Loss at iteration  4000 :  849008962.474\n",
      "Loss at iteration  5000 :  848989376.067\n",
      "Loss at iteration  6000 :  848983004.492\n",
      "Loss at iteration  7000 :  848980931.782\n",
      "Loss at iteration  8000 :  848980257.516\n",
      "Loss at iteration  9000 :  848980038.174\n",
      "Loss at iteration  10000 :  848979966.821\n",
      "Loss at iteration  11000 :  848979943.609\n",
      "Loss at iteration  12000 :  848979936.058\n",
      "Loss at iteration  13000 :  848979933.602\n",
      "Loss at iteration  14000 :  848979932.803\n"
     ]
    }
   ],
   "source": [
    "regParams, cost = gradientDescent(x, y, theta, alpha, iters)"
   ]
  },
  {
   "cell_type": "code",
   "execution_count": 55,
   "metadata": {},
   "outputs": [
    {
     "name": "stdout",
     "output_type": "stream",
     "text": [
      "[[-13231.71952961   3704.73951584]]\n"
     ]
    }
   ],
   "source": [
    "print(regParams)"
   ]
  },
  {
   "cell_type": "markdown",
   "metadata": {},
   "source": [
    "### Using bedrooms to predict house prices"
   ]
  },
  {
   "cell_type": "code",
   "execution_count": 92,
   "metadata": {},
   "outputs": [
    {
     "data": {
      "text/plain": [
       "<matplotlib.axes._subplots.AxesSubplot at 0x2357d7210b8>"
      ]
     },
     "execution_count": 92,
     "metadata": {},
     "output_type": "execute_result"
    },
    {
     "data": {
      "image/png": "[encoded data removed]",
      "text/plain": [
       "<matplotlib.figure.Figure at 0x2357ccb2278>"
      ]
     },
     "metadata": {},
     "output_type": "display_data"
    }
   ],
   "source": [
    "data.plot(kind=\"scatter\", x=\"bedrooms\", y=\"price\", figsize=(12, 8))"
   ]
  },
  {
   "cell_type": "code",
   "execution_count": 90,
   "metadata": {},
   "outputs": [],
   "source": [
    "data.insert(7, \"bed_ones\", 1)"
   ]
  },
  {
   "cell_type": "code",
   "execution_count": 100,
   "metadata": {},
   "outputs": [
    {
     "name": "stdout",
     "output_type": "stream",
     "text": [
      "(17383, 2)\n"
     ]
    }
   ],
   "source": [
    "x = data.iloc[:, 7:9]\n",
    "x = np.matrix(x.values)\n",
    "print(x.shape)"
   ]
  },
  {
   "cell_type": "code",
   "execution_count": 105,
   "metadata": {
    "collapsed": true
   },
   "outputs": [],
   "source": [
    "alpha = 0.02\n",
    "iters = 5000"
   ]
  },
  {
   "cell_type": "code",
   "execution_count": 104,
   "metadata": {},
   "outputs": [
    {
     "name": "stdout",
     "output_type": "stream",
     "text": [
      "Loss at iteration  0 :  959159725.763\n",
      "Loss at iteration  100 :  864723731.646\n",
      "Loss at iteration  200 :  863201433.462\n",
      "Loss at iteration  300 :  862116556.575\n",
      "Loss at iteration  400 :  861343380.892\n",
      "Loss at iteration  500 :  860792350.038\n",
      "Loss at iteration  600 :  860399638.514\n",
      "Loss at iteration  700 :  860119758.828\n",
      "Loss at iteration  800 :  859920292.724\n",
      "Loss at iteration  900 :  859778136.186\n"
     ]
    }
   ],
   "source": [
    "regParams, cost = gradientDescent(x, y, theta, alpha, iters)"
   ]
  },
  {
   "cell_type": "code",
   "execution_count": null,
   "metadata": {
    "collapsed": true
   },
   "outputs": [],
   "source": []
  }
 ],
 "metadata": {
  "kernelspec": {
   "display_name": "Python 3",
   "language": "python",
   "name": "python3"
  },
  "language_info": {
   "codemirror_mode": {
    "name": "ipython",
    "version": 3
   },
   "file_extension": ".py",
   "mimetype": "text/x-python",
   "name": "python",
   "nbconvert_exporter": "python",
   "pygments_lexer": "ipython3",
   "version": "3.6.1"
  }
 },
 "nbformat": 4,
 "nbformat_minor": 2
}

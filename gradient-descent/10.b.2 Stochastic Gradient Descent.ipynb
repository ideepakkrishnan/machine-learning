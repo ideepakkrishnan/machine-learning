{
 "cells": [
  {
   "cell_type": "markdown",
   "metadata": {},
   "source": [
    "# Linear Regression with Stochastic Gradient Descent on batch size 'm'"
   ]
  },
  {
   "cell_type": "markdown",
   "metadata": {},
   "source": [
    "Import necessary libraries"
   ]
  },
  {
   "cell_type": "code",
   "execution_count": 3,
   "metadata": {
    "collapsed": true
   },
   "outputs": [],
   "source": [
    "import numpy as np\n",
    "import pandas as pd\n",
    "import matplotlib.pyplot as plt\n",
    "import scipy.io as sio\n",
    "import random as r\n",
    "\n",
    "%matplotlib inline"
   ]
  },
  {
   "cell_type": "markdown",
   "metadata": {},
   "source": [
    "## Helper Functions"
   ]
  },
  {
   "cell_type": "markdown",
   "metadata": {},
   "source": [
    "Define function to extract random set of m rows"
   ]
  },
  {
   "cell_type": "code",
   "execution_count": 4,
   "metadata": {
    "collapsed": true
   },
   "outputs": [],
   "source": [
    "def extractRows(x, y, batch_size):\n",
    "    \"\"\"\n",
    "    Randomly chooses a set of rows whose count is\n",
    "    specified by the size parameter and returns it\n",
    "    to the caller.\n",
    "    \n",
    "    Parameters\n",
    "    ----------\n",
    "    x : Nxd matrix\n",
    "        where N is the number of input data points\n",
    "        and d is the number of dimensions\n",
    "        Input data points stored in the form of\n",
    "        a NumPy matrix\n",
    "    y : Nx1 matrix\n",
    "        Actual outputs observed for the input\n",
    "        data points\n",
    "    batch_size : Integer\n",
    "        The number of rows to be returned\n",
    "    \n",
    "    Returns\n",
    "    -------\n",
    "    size x d matrix\n",
    "        which contains randomly selected data\n",
    "        points in the form of a matrix        \n",
    "    size x 1 matrix\n",
    "        which contains the outpus for randomly\n",
    "        selected points in the form of a matrix\n",
    "    \"\"\"\n",
    "    \n",
    "    # Generate a random list of integers between\n",
    "    # 0 and N whose count is specified by 'size'\n",
    "    row_indices = r.sample(range(0, x.shape[0]), batch_size)\n",
    "    \n",
    "    # Extract the rows whose indices are equal\n",
    "    # to the members of above list\n",
    "    return x[row_indices], y[row_indices]"
   ]
  },
  {
   "cell_type": "markdown",
   "metadata": {
    "collapsed": true
   },
   "source": [
    "Define the function to compute prediction error"
   ]
  },
  {
   "cell_type": "code",
   "execution_count": 5,
   "metadata": {
    "collapsed": true
   },
   "outputs": [],
   "source": [
    "def computeError(x, y, theta):\n",
    "    \"\"\"\n",
    "    Calculates the cost function J and returns it\n",
    "    to the caller.\n",
    "    \n",
    "    Parameters\n",
    "    ----------\n",
    "    x : Nxd matrix\n",
    "        N is number of samples and d is number of params\n",
    "    y : Nx1 matrix\n",
    "        The matrix storing the actual outputs\n",
    "    theta: 1xd matrix\n",
    "        The matrix storing regression parameters\n",
    "    \n",
    "    Returns\n",
    "    -------\n",
    "    Nx1 matrix\n",
    "        Matrix storing prediction error for each input\n",
    "        data point\n",
    "    \"\"\"\n",
    "    return (x * theta.T - y)"
   ]
  },
  {
   "cell_type": "markdown",
   "metadata": {},
   "source": [
    "Define a function to compute RSS"
   ]
  },
  {
   "cell_type": "code",
   "execution_count": 6,
   "metadata": {
    "collapsed": true
   },
   "outputs": [],
   "source": [
    "def computeCost(error):\n",
    "    \"\"\"\n",
    "    Calculates the overall cost and returns it\n",
    "    to the caller.\n",
    "    \n",
    "    Parameters\n",
    "    ----------\n",
    "    error : Nx1 matrix\n",
    "        Matrix storing prediction error for each\n",
    "        input data point where N is the number of\n",
    "        input data points\n",
    "    \n",
    "    Returns\n",
    "    -------\n",
    "    float\n",
    "        Overall cost for the current step calculated\n",
    "        as (sum of squared error) / (2 * N)\n",
    "    \"\"\"\n",
    "    inner = np.power(error, 2)\n",
    "    return np.sum(inner) / (2 * len(error))"
   ]
  },
  {
   "cell_type": "markdown",
   "metadata": {},
   "source": [
    "Define the method to perform stochastic gradient descent"
   ]
  },
  {
   "cell_type": "code",
   "execution_count": 7,
   "metadata": {
    "collapsed": true
   },
   "outputs": [],
   "source": [
    "def performSGD(x, y, theta, alpha, iterations, batch_size):\n",
    "    \"\"\"\n",
    "    Performs stochastic gradient descent logic on\n",
    "    the matrices passed as arguments and returns the\n",
    "    regression parameters in the form of a column\n",
    "    matrix along with the overall cost involved.\n",
    "    \n",
    "    Parameters\n",
    "    ----------\n",
    "    x : Nxd matrix\n",
    "        The matrix storing the values for selected \n",
    "        features\n",
    "    y : Nx1 matrix\n",
    "        The matrix storing the actual output values\n",
    "    theta: Nx1 matrix\n",
    "        The column vector storing the regression \n",
    "        parameters\n",
    "    alpha: float\n",
    "        The learning rate or the step size\n",
    "    iterations: integer\n",
    "        The number of iterations to be done\n",
    "    batch_size : Integer\n",
    "        Number of rows to consider in each iteration\n",
    "    \n",
    "    Returns\n",
    "    -------\n",
    "    theta: Nx1 matrix\n",
    "        The column vector storing the new regression \n",
    "        parameters\n",
    "    \"\"\"\n",
    "    # Initialize a new column vector to store the\n",
    "    # new regression paramters calculated in this\n",
    "    # step\n",
    "    theta_new = np.matrix(np.zeros(theta.shape))\n",
    "    \n",
    "    # Extract feature count from theta\n",
    "    param_count = theta.ravel().shape[1]\n",
    "    \n",
    "    # Initialize variables to store the cost at\n",
    "    # each iteration\n",
    "    cost = np.zeros(iterations)\n",
    "    \n",
    "    # Gradient descent logic\n",
    "    for i in range(iterations):\n",
    "        # Sample the data for this iteration\n",
    "        x_sample, y_sample = extractRows(x, y, batch_size)\n",
    "        \n",
    "        # Calculate the residual using the formula\n",
    "        # (x * theta.T - y)\n",
    "        error = computeError(x_sample, y_sample, theta)\n",
    "        \n",
    "        # Calculate the learning rate for this \n",
    "        # iteration\n",
    "        effective_alpha = (alpha / i) if (i > 0) else alpha\n",
    "        \n",
    "        # Process each feature vector\n",
    "        for j in range(param_count):\n",
    "            # Multiple the current feature vector \n",
    "            # with error\n",
    "            term = np.multiply(error, x_sample[:, j])\n",
    "            \n",
    "            # Calculate the new values for theta            \n",
    "            theta_new[0, j] = theta[0, j] - (effective_alpha / len(x_sample)) * np.sum(term)\n",
    "        \n",
    "        # Update theta with new values\n",
    "        theta = theta_new\n",
    "        \n",
    "        # Calculate the overall RSS for this iteration        \n",
    "        cost[i] = computeCost(error)\n",
    "        \n",
    "        if i % 50 == 0:\n",
    "            print(\"Cost at step \", i, \": \", cost[i])\n",
    "    \n",
    "    return theta, error, cost"
   ]
  },
  {
   "cell_type": "markdown",
   "metadata": {},
   "source": [
    "## Data Setup"
   ]
  },
  {
   "cell_type": "code",
   "execution_count": 23,
   "metadata": {},
   "outputs": [],
   "source": [
    "def add_polynomial_cols(data, degree, result_col_name):\n",
    "    \"\"\"\n",
    "    Generate polynomial columns for all\n",
    "    columns in the data based on the\n",
    "    specified degree.\n",
    "    \n",
    "    Parameters\n",
    "    ----------\n",
    "    data : Pandas DataFrame\n",
    "        The data to be manipulated\n",
    "    degree : Integer\n",
    "        The polynomial degree\n",
    "    result_col_name : String\n",
    "        The name of the column that stores\n",
    "        the results\n",
    "    \n",
    "    Returns\n",
    "    -------\n",
    "    Pandas DataFrame\n",
    "        storing the updated data\n",
    "    \"\"\"\n",
    "    # Fetch the list of column names\n",
    "    cols = list(data.columns.values)\n",
    "    \n",
    "    # Create polynomial columns for all\n",
    "    # except the result column\n",
    "    for col in cols:\n",
    "        if (col != result_col_name):\n",
    "            for i in range(degree + 1):\n",
    "                if (i != 1):\n",
    "                    new_col_name = col + str(i)\n",
    "                    data[new_col_name] = data[col].apply(lambda x: pow(x, i))\n",
    "        \n",
    "    return data\n",
    "\n",
    "def pre_process(data, result_col_name, degree):\n",
    "    # Add polynomial columns\n",
    "    data = add_polynomial_cols(data, degree, result_col_name)\n",
    "    \n",
    "    # Split data and result columns into\n",
    "    # X and Y\n",
    "    data_cols = list(data.columns.values)\n",
    "    data_cols.remove(result_col_name)\n",
    "    \n",
    "    X = data[data_cols]\n",
    "    X = np.matrix(X.values)\n",
    "    \n",
    "    Y = data[[result_col_name]]\n",
    "    Y = np.matrix(Y.values)\n",
    "    \n",
    "    return X, Y\n",
    "\n",
    "def load_train_data(path):\n",
    "    train_data = sio.loadmat(path)\n",
    "    train_data = pd.DataFrame(np.hstack((train_data['X_trn'], train_data['Y_trn'])))\n",
    "    train_data.columns = ['X_trn', 'Y_trn']\n",
    "    return train_data\n",
    "\n",
    "def plot_training_data_fit(train_data, degree, theta):\n",
    "    x = np.linspace(train_data.X_trn.min(), train_data.X_trn.max(), 100)\n",
    "\n",
    "    f = 0\n",
    "    for i in range(degree + 1):\n",
    "        f += (theta[0, i] * pow(x, i))\n",
    "\n",
    "    fig, ax = plt.subplots(figsize=(12,8))\n",
    "    ax.plot(x, f, 'r', label='Prediction')\n",
    "    ax.scatter(train_data.X_trn, train_data.Y_trn, label='Traning Data')\n",
    "    ax.legend(loc=2)\n",
    "    ax.set_xlabel('X_trn')\n",
    "    ax.set_ylabel('Y_trn')\n",
    "    ax.set_title('Predicted X_trn vs. Y_trn')\n",
    "\n",
    "def generate_model(path, result_col_name, theta, degree, alpha, iterations, batch_size):    \n",
    "    train_data = load_train_data(path)\n",
    "    X, Y = pre_process(train_data, result_col_name, degree)\n",
    "    \n",
    "    theta, error, cost = performSGD(X, Y, theta, alpha, iterations, batch_size)\n",
    "    print(\"Theta: \", theta)\n",
    "    print(\"Regression error: \", error.sum())\n",
    "    print(\"Train error: \", cost.sum())\n",
    "    \n",
    "    plot_training_data_fit(train_data, degree, theta)\n",
    "    \n",
    "    return theta\n",
    "\n",
    "def load_test_data(path):\n",
    "    test_data = sio.loadmat(path)\n",
    "    test_data = pd.DataFrame(np.hstack((test_data['X_tst'], test_data['Y_tst'])))\n",
    "    test_data.columns = ['X_tst', 'Y_tst']\n",
    "    return test_data\n",
    "\n",
    "def plot_test_data_fit(test_data, degree, theta):\n",
    "    x = np.linspace(test_data.X_tst.min(), test_data.X_tst.max(), 100)\n",
    "\n",
    "    f = 0\n",
    "    for i in range(degree + 1):\n",
    "        f += (theta[0, i] * pow(x, i))\n",
    "\n",
    "    fig, ax = plt.subplots(figsize=(12,8))\n",
    "    ax.plot(x, f, 'r', label='Prediction')\n",
    "    ax.scatter(test_data.X_tst, test_data.Y_tst, label='Test Data')\n",
    "    ax.legend(loc=2)\n",
    "    ax.set_xlabel('X_tst')\n",
    "    ax.set_ylabel('Y_tst')\n",
    "    ax.set_title('Predicted X_tst vs. Y_tst')\n",
    "\n",
    "def predict(path, result_col_name, degree, theta):\n",
    "    test_data = load_test_data(path)\n",
    "    X, Y = pre_process(test_data, result_col_name, degree)\n",
    "    \n",
    "    error = computeError(X, Y, theta)\n",
    "    print(\"Regression error: \", error.sum())\n",
    "    \n",
    "    cost = computeCost(error)\n",
    "    print(\"Test error: \", cost.sum())\n",
    "    \n",
    "    plot_test_data_fit(test_data, degree, theta)"
   ]
  },
  {
   "cell_type": "code",
   "execution_count": 34,
   "metadata": {},
   "outputs": [
    {
     "name": "stdout",
     "output_type": "stream",
     "text": [
      "Cost at step  0 :  227.469652877\n",
      "Cost at step  50 :  60.1993459563\n",
      "Cost at step  100 :  58.287614338\n",
      "Cost at step  150 :  79.1680664799\n",
      "Cost at step  200 :  56.069412163\n",
      "Cost at step  250 :  41.4696426066\n",
      "Cost at step  300 :  69.1253289949\n",
      "Cost at step  350 :  68.5026135897\n",
      "Cost at step  400 :  66.1246545173\n",
      "Cost at step  450 :  69.0276791253\n",
      "Cost at step  500 :  53.7212719954\n",
      "Cost at step  550 :  45.5094412569\n",
      "Cost at step  600 :  52.6732006846\n",
      "Cost at step  650 :  43.4099624374\n",
      "Cost at step  700 :  43.2202745209\n",
      "Cost at step  750 :  55.4576957698\n",
      "Cost at step  800 :  42.6107508672\n",
      "Cost at step  850 :  62.2999576189\n",
      "Cost at step  900 :  74.5248122563\n",
      "Cost at step  950 :  56.9431770249\n",
      "Theta:  [[ 0.00521836  0.00942532  0.03526063  0.02776174  0.18336494  0.03813105]]\n",
      "Regression error:  -105.883711847\n",
      "Train error:  69273.8929242\n",
      "Regression error:  -485.578665814\n",
      "Test error:  5382.35398346\n"
     ]
    },
    {
     "data": {
      "image/png": "[encoded data removed]",
      "text/plain": [
       "<matplotlib.figure.Figure at 0x289eceba080>"
      ]
     },
     "metadata": {},
     "output_type": "display_data"
    },
    {
     "data": {
      "image/png": "[encoded data removed]",
      "text/plain": [
       "<matplotlib.figure.Figure at 0x289ecef4438>"
      ]
     },
     "metadata": {},
     "output_type": "display_data"
    }
   ],
   "source": [
    "path = \"dataset1.mat\"\n",
    "result_col_name = \"Y_trn\"\n",
    "degree = 5\n",
    "theta = np.matrix(np.zeros(6))\n",
    "alpha = 0.0001\n",
    "iterations = 1000\n",
    "batch_size = 10\n",
    "\n",
    "reg_params = generate_model(path, result_col_name, theta, degree, alpha, iterations, batch_size)\n",
    "\n",
    "result_col_name = \"Y_tst\"\n",
    "predict(path, result_col_name, degree, reg_params)"
   ]
  },
  {
   "cell_type": "code",
   "execution_count": null,
   "metadata": {
    "collapsed": true
   },
   "outputs": [],
   "source": []
  }
 ],
 "metadata": {
  "kernelspec": {
   "display_name": "Python 3",
   "language": "python",
   "name": "python3"
  },
  "language_info": {
   "codemirror_mode": {
    "name": "ipython",
    "version": 3
   },
   "file_extension": ".py",
   "mimetype": "text/x-python",
   "name": "python",
   "nbconvert_exporter": "python",
   "pygments_lexer": "ipython3",
   "version": "3.6.1"
  }
 },
 "nbformat": 4,
 "nbformat_minor": 2
}

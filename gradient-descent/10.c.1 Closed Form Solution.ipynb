{
 "cells": [
  {
   "cell_type": "markdown",
   "metadata": {},
   "source": [
    "# Linear Regression with closed form solution + K-fold cross validation"
   ]
  },
  {
   "cell_type": "markdown",
   "metadata": {},
   "source": [
    "Import necessary libraries"
   ]
  },
  {
   "cell_type": "code",
   "execution_count": 1,
   "metadata": {
    "collapsed": true
   },
   "outputs": [],
   "source": [
    "import numpy as np\n",
    "import pandas as pd\n",
    "import matplotlib.pyplot as plt\n",
    "import random as r\n",
    "import scipy.io as sio\n",
    "%matplotlib inline"
   ]
  },
  {
   "cell_type": "markdown",
   "metadata": {
    "collapsed": true
   },
   "source": [
    "Define the function to compute cost function"
   ]
  },
  {
   "cell_type": "code",
   "execution_count": 21,
   "metadata": {
    "collapsed": true
   },
   "outputs": [],
   "source": [
    "def computeError(x, y, theta):\n",
    "    \"\"\"\n",
    "    Calculates the cost function J and returns it\n",
    "    to the caller.\n",
    "    \n",
    "    Parameters\n",
    "    ----------\n",
    "    x : Nxd matrix\n",
    "        N is number of samples and d is number of params\n",
    "    y : Nx1 matrix\n",
    "        The matrix storing the actual outputs\n",
    "    theta: 1xd matrix\n",
    "        The matrix storing regression parameters\n",
    "    \n",
    "    Returns\n",
    "    -------\n",
    "    Nx1 matrix\n",
    "        Matrix storing prediction error for each input\n",
    "        data point\n",
    "    \"\"\"\n",
    "    return (x * theta - y)"
   ]
  },
  {
   "cell_type": "code",
   "execution_count": 6,
   "metadata": {
    "collapsed": true
   },
   "outputs": [],
   "source": [
    "def computeCost(error):\n",
    "    \"\"\"\n",
    "    Calculates the overall cost and returns it\n",
    "    to the caller.\n",
    "    \n",
    "    Parameters\n",
    "    ----------\n",
    "    error : Nx1 matrix\n",
    "        Matrix storing prediction error for each\n",
    "        input data point where N is the number of\n",
    "        input data points\n",
    "    \n",
    "    Returns\n",
    "    -------\n",
    "    float\n",
    "        Overall cost for the current step calculated\n",
    "        as (sum of squared error) / (2 * N)\n",
    "    \"\"\"\n",
    "    inner = np.power(error, 2)\n",
    "    return np.sum(inner) / (2 * len(error))"
   ]
  },
  {
   "cell_type": "code",
   "execution_count": 7,
   "metadata": {
    "collapsed": true
   },
   "outputs": [],
   "source": [
    "def computeTheta(X, Y, l2_penality):\n",
    "    \"\"\"\n",
    "    Calculates theta using the closed form solution.\n",
    "    This method uses the following formula to\n",
    "    calculate the value of regression parameters:\n",
    "    theta = ((X.T*X)^(-1))*(X.T*Y)\n",
    "    where:\n",
    "    X is a matrix storing the input data points,\n",
    "    Y is the observed outputs,\n",
    "    X.T represents the transpose of a matrix X and\n",
    "    theta is a matrix storing the regression params\n",
    "    \n",
    "    Parameters\n",
    "    ----------\n",
    "    X : Nxd matrix\n",
    "        N is the number of input samples and d is \n",
    "        the number of features\n",
    "    Y : Nx1 matrix\n",
    "        The matrix storing the actual outputs\n",
    "    l2_penality : float\n",
    "        The L2 penality to be applied\n",
    "    \n",
    "    Returns\n",
    "    -------\n",
    "    dx1 matrix\n",
    "        The calculated regression parameters\n",
    "    \"\"\"\n",
    "    I = np.eye(X.shape[1])\n",
    "    I = I*l2_penality\n",
    "    \n",
    "    inversePart = np.power(X.T*X + I, -1)\n",
    "    rest = X.T*Y\n",
    "    return inversePart*rest"
   ]
  },
  {
   "cell_type": "code",
   "execution_count": 8,
   "metadata": {
    "collapsed": true
   },
   "outputs": [],
   "source": [
    "def generate_folds(X, k, randomize = False):\n",
    "    \"\"\"\n",
    "    Generates k (training, validation) pairs from\n",
    "    the given data\n",
    "    \n",
    "    Parameters\n",
    "    ----------\n",
    "    X : Nxd matrix\n",
    "        where N is the total number of input data\n",
    "        points and d is the number of features\n",
    "    k : Integer\n",
    "        Number of folds to be generated\n",
    "    randomize : boolean\n",
    "        True iff data must be shuffled before\n",
    "        being split into (training, validation)\n",
    "        pairs\n",
    "    \n",
    "    Yields\n",
    "    ------\n",
    "    k (training, validation) pairs\n",
    "    \"\"\"\n",
    "    \n",
    "    # Shuffle the data if necessary    \n",
    "    if randomize:\n",
    "        X = list(X)\n",
    "        r.shuffle(X)\n",
    "    \n",
    "    for i in range(k):\n",
    "        training = [x for j, x in enumerate(X, start = 1) if j % k != i]\n",
    "        validation = [x for j, x in enumerate(X, start = 1) if j % k == i]\n",
    "        yield training, validation"
   ]
  },
  {
   "cell_type": "code",
   "execution_count": 16,
   "metadata": {
    "collapsed": true
   },
   "outputs": [],
   "source": [
    "def do_k_fold_CV(data, l2_penality_values, K):\n",
    "    \n",
    "    # For each value of L2 penality, compute\n",
    "    # the average MSE after fitting a model\n",
    "    # for each fold\n",
    "    l2_penality_mse = np.zeros(len(l2_penality_values))\n",
    "    \n",
    "    # Define variables to track the min MSE\n",
    "    # and best L2 penality\n",
    "    min_mse = None\n",
    "    best_l2_penality = None\n",
    "    \n",
    "    # Create as many folds as needed for cross\n",
    "    # validation and run linear regression on\n",
    "    # each training-validation pair\n",
    "    for training, validation in generate_folds(data.values, K, True):\n",
    "        \n",
    "        # Convert the splits into dataframe\n",
    "        t_df = pd.DataFrame(training)\n",
    "        v_df = pd.DataFrame(validation)\n",
    "        \n",
    "        # Split the datasets into X and Y\n",
    "        t_X = t_df.iloc[:, 0:2]\n",
    "        t_Y = t_df.iloc[:, 2:]\n",
    "        v_X = v_df.iloc[:, 0:2]\n",
    "        v_Y = v_df.iloc[:, 2:]\n",
    "        \n",
    "        # Convert X and Y into matrices\n",
    "        t_X = np.matrix(t_X.values)\n",
    "        t_Y = np.matrix(t_Y.values)\n",
    "        v_X = np.matrix(v_X.values)\n",
    "        v_Y = np.matrix(v_Y.values)\n",
    "        \n",
    "        for i, l2_penality in enumerate(l2_penality_values):\n",
    "            # Initialize theta\n",
    "            t_theta = computeTheta(t_X, t_Y, l2_penality)\n",
    "            \n",
    "            # Predict validation set outputs\n",
    "            v_Y_prediction = v_X * t_theta\n",
    "            #print(\"v_Y_prediction: \", v_Y_prediction.shape)\n",
    "            v_l1_error = v_Y_prediction - v_Y\n",
    "            #print(\"v_l1_error: \", v_l1_error.shape)\n",
    "            v_l2_error = v_l1_error.T * v_l1_error\n",
    "            #print(\"v_l2_error: \", v_l2_error.shape)\n",
    "            l2_penality_mse[i] += v_l2_error.sum()\n",
    "    \n",
    "    l2_penality_mse = l2_penality_mse / K\n",
    "    \n",
    "    # Find the min mse and corresponding l2 penality\n",
    "    min_mse = None\n",
    "    best_l2_penality = None\n",
    "    \n",
    "    for i, val in enumerate(l2_penality_mse):\n",
    "        if min_mse is None or val < min_mse:\n",
    "            min_mse = val\n",
    "            best_l2_penality = l2_penality_values[i]            \n",
    "    \n",
    "    return l2_penality_mse, best_l2_penality"
   ]
  },
  {
   "cell_type": "code",
   "execution_count": 40,
   "metadata": {},
   "outputs": [],
   "source": [
    "def add_polynomial_cols(data, degree, result_col_name):\n",
    "    \"\"\"\n",
    "    Generate polynomial columns for all\n",
    "    columns in the data based on the\n",
    "    specified degree.\n",
    "    \n",
    "    Parameters\n",
    "    ----------\n",
    "    data : Pandas DataFrame\n",
    "        The data to be manipulated\n",
    "    degree : Integer\n",
    "        The polynomial degree\n",
    "    result_col_name : String\n",
    "        The name of the column that stores\n",
    "        the results\n",
    "    \n",
    "    Returns\n",
    "    -------\n",
    "    Pandas DataFrame\n",
    "        storing the updated data\n",
    "    \"\"\"\n",
    "    # Fetch the list of column names\n",
    "    cols = list(data.columns.values)\n",
    "    \n",
    "    # Create polynomial columns for all\n",
    "    # except the result column\n",
    "    for col in cols:\n",
    "        if (col != result_col_name):\n",
    "            for i in range(degree + 1):\n",
    "                if (i != 1):\n",
    "                    new_col_name = col + str(i)\n",
    "                    data[new_col_name] = data[col].apply(lambda x: pow(x, i))\n",
    "        \n",
    "    return data\n",
    "\n",
    "def pre_process(data, result_col_name, degree):\n",
    "    # Add polynomial columns\n",
    "    data = add_polynomial_cols(data, degree, result_col_name)\n",
    "    \n",
    "    # Split data and result columns into\n",
    "    # X and Y\n",
    "    data_cols = list(data.columns.values)\n",
    "    data_cols.remove(result_col_name)\n",
    "    \n",
    "    X = data[data_cols]\n",
    "    X = np.matrix(X.values)\n",
    "    \n",
    "    Y = data[[result_col_name]]\n",
    "    Y = np.matrix(Y.values)\n",
    "    \n",
    "    return data, X, Y\n",
    "\n",
    "def load_train_data(path):\n",
    "    train_data = sio.loadmat(path)\n",
    "    train_data = pd.DataFrame(np.hstack((train_data['X_trn'], train_data['Y_trn'])))\n",
    "    train_data.columns = ['X_trn', 'Y_trn']\n",
    "    return train_data\n",
    "\n",
    "def plot_training_data_fit(train_data, degree, theta):\n",
    "    x = np.linspace(train_data.X_trn.min(), train_data.X_trn.max(), 100)\n",
    "\n",
    "    f = 0\n",
    "    for i in range(degree + 1):\n",
    "        f += (theta[i, 0] * pow(x, i))\n",
    "\n",
    "    fig, ax = plt.subplots(figsize=(12,8))\n",
    "    ax.plot(x, f, 'r', label='Prediction')\n",
    "    ax.scatter(train_data.X_trn, train_data.Y_trn, label='Traning Data')\n",
    "    ax.legend(loc=2)\n",
    "    ax.set_xlabel('X_trn')\n",
    "    ax.set_ylabel('Y_trn')\n",
    "    ax.set_title('Predicted X_trn vs. Y_trn')\n",
    "\n",
    "def generate_model(path, result_col_name, degree, folds=None):    \n",
    "    train_data = load_train_data(path)\n",
    "    train_data, X, Y = pre_process(train_data, result_col_name, degree)\n",
    "    \n",
    "    if folds is None:\n",
    "        folds = X.shape[0]\n",
    "    \n",
    "    # K-fold CV\n",
    "    l2_penality_values = np.logspace(-4, 10, num=10)\n",
    "    l2_penality_mse, best_l2_penality = do_k_fold_CV(train_data, l2_penality_values, folds)\n",
    "    print(\"L2 Penality MSEs: \", l2_penality_mse)\n",
    "    print(\"Best L2 penality value: \", best_l2_penality)\n",
    "    \n",
    "    plot_cv_error(l2_penality_values, l2_penality_mse)\n",
    "    \n",
    "    theta = computeTheta(X, Y, best_l2_penality)\n",
    "    print(\"Theta: \", theta)\n",
    "    \n",
    "    error = computeError(X, Y, theta)\n",
    "    print(\"Test Regression error: \", error.sum())\n",
    "    \n",
    "    cost = computeCost(error)\n",
    "    print(\"Test error: \", cost.sum())\n",
    "    \n",
    "    plot_training_data_fit(train_data, degree, theta)\n",
    "    \n",
    "    return theta\n",
    "\n",
    "def load_test_data(path):\n",
    "    test_data = sio.loadmat(path)\n",
    "    test_data = pd.DataFrame(np.hstack((test_data['X_tst'], test_data['Y_tst'])))\n",
    "    test_data.columns = ['X_tst', 'Y_tst']\n",
    "    return test_data\n",
    "\n",
    "def plot_test_data_fit(test_data, degree, theta):\n",
    "    x = np.linspace(test_data.X_tst.min(), test_data.X_tst.max(), 100)\n",
    "\n",
    "    f = 0\n",
    "    for i in range(degree + 1):\n",
    "        f += (theta[i, 0] * pow(x, i))\n",
    "\n",
    "    fig, ax = plt.subplots(figsize=(12,8))\n",
    "    ax.plot(x, f, 'r', label='Prediction')\n",
    "    ax.scatter(test_data.X_tst, test_data.Y_tst, label='Test Data')\n",
    "    ax.legend(loc=2)\n",
    "    ax.set_xlabel('X_tst')\n",
    "    ax.set_ylabel('Y_tst')\n",
    "    ax.set_title('Predicted X_tst vs. Y_tst')\n",
    "\n",
    "def plot_cv_error(l2_penality_values, l2_penality_mse):\n",
    "    plt.plot(l2_penality_values, l2_penality_mse, 'k-')\n",
    "    plt.xlabel('$\\ell_2$ penalty')\n",
    "    plt.ylabel('K-fold cross validation error')\n",
    "    plt.xscale('log')\n",
    "    plt.yscale('log')\n",
    "\n",
    "def predict(path, result_col_name, degree, theta):\n",
    "    test_data = load_test_data(path)\n",
    "    test_data, X, Y = pre_process(test_data, result_col_name, degree)\n",
    "    \n",
    "    error = computeError(X, Y, theta)\n",
    "    print(\"Training regression error: \", error.sum())\n",
    "    \n",
    "    cost = computeCost(error)\n",
    "    print(\"Training error: \", cost.sum())\n",
    "    \n",
    "    plot_test_data_fit(test_data, degree, theta)"
   ]
  },
  {
   "cell_type": "code",
   "execution_count": 47,
   "metadata": {
    "scrolled": false
   },
   "outputs": [
    {
     "name": "stdout",
     "output_type": "stream",
     "text": [
      "L2 Penality MSEs:  [  4.76531501e+08   4.76531023e+08   4.76513856e+08   4.75898568e+08\n",
      "   4.55761245e+08   2.96239890e+08   1.92044488e+08   1.00496906e+08\n",
      "   9.43928110e+07   9.42171899e+07]\n",
      "Best L2 penality value:  10000000000.0\n",
      "Theta:  [[  4.21294950e+01]\n",
      " [ -6.31751852e+02]\n",
      " [ -1.10530821e+01]\n",
      " [  8.63361943e-01]\n",
      " [ -1.82948118e-01]\n",
      " [  2.05157361e-02]]\n",
      "Test Regression error:  -115880.230009\n",
      "Test error:  953773.141426\n",
      "Training regression error:  -6538.22892223\n",
      "Training error:  346043.658272\n"
     ]
    },
    {
     "data": {
      "image/png": "[encoded data removed]",
      "text/plain": [
       "<matplotlib.figure.Figure at 0x2228bbe4d68>"
      ]
     },
     "metadata": {},
     "output_type": "display_data"
    },
    {
     "data": {
      "image/png": "[encoded data removed]",
      "text/plain": [
       "<matplotlib.figure.Figure at 0x2228e38d240>"
      ]
     },
     "metadata": {},
     "output_type": "display_data"
    },
    {
     "data": {
      "image/png": "[encoded data removed]",
      "text/plain": [
       "<matplotlib.figure.Figure at 0x2228db4d780>"
      ]
     },
     "metadata": {},
     "output_type": "display_data"
    }
   ],
   "source": [
    "path = \"dataset2.mat\"\n",
    "result_col_name = \"Y_trn\"\n",
    "degree = 5\n",
    "folds = None\n",
    "\n",
    "theta = generate_model(path, result_col_name, degree, folds)\n",
    "\n",
    "result_col_name = \"Y_tst\"\n",
    "\n",
    "predict(path, result_col_name, degree, theta)"
   ]
  },
  {
   "cell_type": "code",
   "execution_count": null,
   "metadata": {
    "collapsed": true
   },
   "outputs": [],
   "source": []
  }
 ],
 "metadata": {
  "kernelspec": {
   "display_name": "Python 3",
   "language": "python",
   "name": "python3"
  },
  "language_info": {
   "codemirror_mode": {
    "name": "ipython",
    "version": 3
   },
   "file_extension": ".py",
   "mimetype": "text/x-python",
   "name": "python",
   "nbconvert_exporter": "python",
   "pygments_lexer": "ipython3",
   "version": "3.6.1"
  }
 },
 "nbformat": 4,
 "nbformat_minor": 2
}
